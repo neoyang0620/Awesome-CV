{
  "nbformat": 4,
  "nbformat_minor": 0,
  "metadata": {
    "colab": {
      "name": "Preprocess.ipynb",
      "version": "0.3.2",
      "provenance": [],
      "include_colab_link": true
    },
    "kernelspec": {
      "name": "python3",
      "display_name": "Python 3"
    }
  },
  "cells": [
    {
      "cell_type": "markdown",
      "metadata": {
        "id": "view-in-github",
        "colab_type": "text"
      },
      "source": [
        "<a href=\"https://colab.research.google.com/github/neoyang0620/Awesome-CV/blob/master/Preprocess.ipynb\" target=\"_parent\"><img src=\"https://colab.research.google.com/assets/colab-badge.svg\" alt=\"Open In Colab\"/></a>"
      ]
    },
    {
      "metadata": {
        "id": "GHSjwcXsZFrb",
        "colab_type": "code",
        "colab": {
          "base_uri": "https://localhost:8080/",
          "height": 34
        },
        "outputId": "12bfb589-3beb-48c5-85af-79c4c4b7959d"
      },
      "cell_type": "code",
      "source": [
        "\n",
        "from google.colab import drive\n",
        "import numpy as np\n",
        "import pandas as pd\n",
        "import matplotlib.pyplot as plt\n",
        "import os\n",
        "import scipy\n",
        "from skimage.transform import resize\n",
        "from scipy import ndimage\n",
        "drive.mount('/content/drive')\n",
        "\n",
        "\n"
      ],
      "execution_count": 7,
      "outputs": [
        {
          "output_type": "stream",
          "text": [
            "Drive already mounted at /content/drive; to attempt to forcibly remount, call drive.mount(\"/content/drive\", force_remount=True).\n"
          ],
          "name": "stdout"
        }
      ]
    },
    {
      "metadata": {
        "id": "YGzRrW6ic7El",
        "colab_type": "code",
        "colab": {}
      },
      "cell_type": "code",
      "source": [
        "DATA_DIR = '../content/drive/My Drive/Project3/comp-551-w2019-project-3-modified-mnist'\n",
        "\n",
        "def get_train_data():\n",
        "  train_images = pd.read_pickle(os.path.join(DATA_DIR, 'train_images.pkl'))\n",
        "  train_labels = pd.read_csv(os.path.join(DATA_DIR, 'train_labels.csv'))\n",
        "  return train_images, train_labels\n",
        "\n",
        "def get_test_data():\n",
        "  return pd.read_pickle(os.path.join(DATA_DIR, 'test_images.pkl'))\n",
        "def showImage(img_idx):\n",
        "  plt.title('Label: {}'.format(train_labels.iloc[img_idx]['Category']))\n",
        "  plt.imshow(train_images[img_idx])\n",
        "def preprocess(data):\n",
        "  data = np.where(data>250, 1, 0)\n",
        "  return data\n"
      ],
      "execution_count": 0,
      "outputs": []
    },
    {
      "metadata": {
        "id": "Iaeu0qqyu_qp",
        "colab_type": "code",
        "colab": {
          "base_uri": "https://localhost:8080/",
          "height": 34
        },
        "outputId": "8fd0184c-9ac1-4aac-a869-f8eacd4070f2"
      },
      "cell_type": "code",
      "source": [
        "a = pd.read_pickle(os.path.join(DATA_DIR, 'train_images.pkl'))\n",
        "a.shape"
      ],
      "execution_count": 17,
      "outputs": [
        {
          "output_type": "execute_result",
          "data": {
            "text/plain": [
              "(40000, 64, 64)"
            ]
          },
          "metadata": {
            "tags": []
          },
          "execution_count": 17
        }
      ]
    },
    {
      "metadata": {
        "id": "A8cpS_ZVd8BI",
        "colab_type": "code",
        "colab": {
          "base_uri": "https://localhost:8080/",
          "height": 362
        },
        "outputId": "bb95cec4-fef6-4eea-f01d-509c206cda0e"
      },
      "cell_type": "code",
      "source": [
        "train_images, train_labels = get_train_data()\n",
        "showImage(img_idx = 0)\n",
        "\n"
      ],
      "execution_count": 9,
      "outputs": [
        {
          "output_type": "display_data",
          "data": {
            "image/png": "[encoded data removed]",
            "text/plain": [
              "<Figure size 576x396 with 1 Axes>"
            ]
          },
          "metadata": {
            "tags": []
          }
        }
      ]
    },
    {
      "metadata": {
        "id": "kZie1QOPtySS",
        "colab_type": "code",
        "colab": {
          "base_uri": "https://localhost:8080/",
          "height": 362
        },
        "outputId": "d7a0a755-22ba-4e46-cf54-07a71991953f"
      },
      "cell_type": "code",
      "source": [
        "train_images = preprocess(train_images)\n",
        "showImage(img_idx = 0)"
      ],
      "execution_count": 10,
      "outputs": [
        {
          "output_type": "display_data",
          "data": {
            "image/png": "[encoded data removed]",
            "text/plain": [
              "<Figure size 576x396 with 1 Axes>"
            ]
          },
          "metadata": {
            "tags": []
          }
        }
      ]
    },
    {
      "metadata": {
        "id": "reZAOIs4k4Q3",
        "colab_type": "text"
      },
      "cell_type": "markdown",
      "source": [
        "Find the largest digit"
      ]
    },
    {
      "metadata": {
        "id": "BnmtYPYiyg_9",
        "colab_type": "code",
        "colab": {}
      },
      "cell_type": "code",
      "source": [
        "X_train_extracted = []\n",
        "for im in train_images:\n",
        "#   im = train_image[17]\n",
        "\n",
        "  # find out all the connect components\n",
        "  mask = im > im.mean()\n",
        "  label_im, nb_labels = ndimage.label(mask)\n",
        "\n",
        "  # remove some small pieces and background\n",
        "  sizes = ndimage.sum(mask, label_im, range(nb_labels + 1)) # give background an label\n",
        "  mask_size = sizes < 70\n",
        "  remove_pixel = mask_size[label_im]\n",
        "  label_im[remove_pixel] = 0  \n",
        "\n",
        "  # clean up label_im and compute the new label\n",
        "  labels = np.unique(label_im)\n",
        "  label_im = np.searchsorted(labels, label_im)\n",
        "\n",
        "  # Slice out the largest digit\n",
        "  best_slice_x, best_slice_y = 0,0\n",
        "  max_area = 0\n",
        "  for i in range(len(labels)-1): # ignore the background\n",
        "      slice_x, slice_y = ndimage.find_objects(label_im==i+1)[0]\n",
        "      area = max((slice_x.stop - slice_x.start),(slice_y.stop - slice_y.start))\n",
        "  #     area = (slice_x.stop - slice_x.start)*(slice_y.stop - slice_y.start)\n",
        "#       print(\"Area\",end = ': ')\n",
        "#       print(area)\n",
        "\n",
        "      if(area > max_area):\n",
        "          max_area = area\n",
        "          best_slice_x = slice_x\n",
        "          best_slice_y = slice_y\n",
        "  # largest_digit = im[best_slice_x, best_slice_y]\n",
        "  largest_digit = im[best_slice_x.start:best_slice_x.start+max_area, best_slice_y.start:best_slice_y.start+max_area]\n",
        "  X_train_extracted.append(largest_digit)\n"
      ],
      "execution_count": 0,
      "outputs": []
    },
    {
      "metadata": {
        "id": "t9g62ohaFGVh",
        "colab_type": "code",
        "colab": {
          "base_uri": "https://localhost:8080/",
          "height": 396
        },
        "outputId": "23f0ee3f-ae4e-4f4c-a1b3-f86c94ebf65e"
      },
      "cell_type": "code",
      "source": [
        "print(len(X_train_extracted))\n",
        "plt.title('Label: {}'.format(train_labels.iloc[8]['Category']))\n",
        "plt.imshow(X_train_extracted[8])"
      ],
      "execution_count": 12,
      "outputs": [
        {
          "output_type": "stream",
          "text": [
            "40000\n"
          ],
          "name": "stdout"
        },
        {
          "output_type": "execute_result",
          "data": {
            "text/plain": [
              "<matplotlib.image.AxesImage at 0x7f7694bfe128>"
            ]
          },
          "metadata": {
            "tags": []
          },
          "execution_count": 12
        },
        {
          "output_type": "display_data",
          "data": {
            "image/png": "[encoded data removed]",
            "text/plain": [
              "<Figure size 576x396 with 1 Axes>"
            ]
          },
          "metadata": {
            "tags": []
          }
        }
      ]
    },
    {
      "metadata": {
        "id": "pfr8a1lIFzgE",
        "colab_type": "code",
        "colab": {
          "base_uri": "https://localhost:8080/",
          "height": 145
        },
        "outputId": "037c1a92-f6af-4746-c3e2-0a2f927059fb"
      },
      "cell_type": "code",
      "source": [
        "resized_arr = []\n",
        "for image in X_train_extracted:\n",
        "    resized_image = resize(image, (30,30))\n",
        "    resized_arr.append(resized_image)\n",
        "\n",
        "#Binarize the images\n",
        "# resized_arr_bin = np.where(np.array(resized_arr)>125, 1, 0)"
      ],
      "execution_count": 21,
      "outputs": [
        {
          "output_type": "stream",
          "text": [
            "/usr/local/lib/python3.6/dist-packages/skimage/transform/_warps.py:84: UserWarning: The default mode, 'constant', will be changed to 'reflect' in skimage 0.15.\n",
            "  warn(\"The default mode, 'constant', will be changed to 'reflect' in \"\n",
            "/usr/local/lib/python3.6/dist-packages/skimage/util/dtype.py:122: UserWarning: Possible precision loss when converting from int64 to float64\n",
            "  .format(dtypeobj_in, dtypeobj_out))\n"
          ],
          "name": "stderr"
        }
      ]
    },
    {
      "metadata": {
        "id": "QfC5mGpxKwka",
        "colab_type": "code",
        "colab": {
          "base_uri": "https://localhost:8080/",
          "height": 364
        },
        "outputId": "2f4f759a-f49a-49b8-a267-968824887f69"
      },
      "cell_type": "code",
      "source": [
        "plt.imshow(resized_arr[8])"
      ],
      "execution_count": 22,
      "outputs": [
        {
          "output_type": "execute_result",
          "data": {
            "text/plain": [
              "<matplotlib.image.AxesImage at 0x7f76952d1d30>"
            ]
          },
          "metadata": {
            "tags": []
          },
          "execution_count": 22
        },
        {
          "output_type": "display_data",
          "data": {
            "image/png": "[encoded data removed]",
            "text/plain": [
              "<Figure size 576x396 with 1 Axes>"
            ]
          },
          "metadata": {
            "tags": []
          }
        }
      ]
    },
    {
      "metadata": {
        "id": "-XnGvmvntf3z",
        "colab_type": "text"
      },
      "cell_type": "markdown",
      "source": [
        "Setup the dataset"
      ]
    },
    {
      "metadata": {
        "id": "0PFEEsFSKDzs",
        "colab_type": "code",
        "colab": {}
      },
      "cell_type": "code",
      "source": [
        "import torch.utils.data as data\n",
        "\n",
        "from PIL import Image\n",
        "import os\n",
        "import os.path\n",
        "\n",
        "class ImageFilelist(data.Dataset):\n",
        "\tdef __init__(self, root, flist, transform=None, target_transform=None,\n",
        "\t\t\tflist_reader=default_flist_reader, loader=default_loader):\n",
        "\t\tself.root   = root\n",
        "\t\tself.imlist = flist_reader(flist)\t\t\n",
        "\t\tself.transform = transform\n",
        "\t\tself.target_transform = target_transform\n",
        "\t\tself.loader = loader\n",
        "\n",
        "\tdef __getitem__(self, index):\n",
        "\t\timpath, target = self.imlist[index]\n",
        "\t\timg = self.loader(os.path.join(self.root,impath))\n",
        "\t\tif self.transform is not None:\n",
        "\t\t\timg = self.transform(img)\n",
        "\t\tif self.target_transform is not None:\n",
        "\t\t\ttarget = self.target_transform(target)\n",
        "\t\t\n",
        "\t\treturn img, target\n",
        "\n",
        "\tdef __len__(self):\n",
        "\t\treturn len(self.imlist)"
      ],
      "execution_count": 0,
      "outputs": []
    }
  ]
}